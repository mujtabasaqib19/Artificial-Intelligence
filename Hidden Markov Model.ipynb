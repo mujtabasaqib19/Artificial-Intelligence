{
 "cells": [
  {
   "cell_type": "markdown",
   "id": "ebd1b4e8",
   "metadata": {},
   "source": [
    "# 22k-4005 Mujtaba Saqib Lab 9"
   ]
  },
  {
   "cell_type": "code",
   "execution_count": 23,
   "id": "db46ea81",
   "metadata": {},
   "outputs": [],
   "source": [
    "import numpy as np\n",
    "import matplotlib.pyplot as plt\n",
    "import seaborn as sns\n",
    "from hmmlearn import hmm"
   ]
  },
  {
   "cell_type": "markdown",
   "id": "3c513761",
   "metadata": {},
   "source": [
    "<img src = \"question.png\"/>"
   ]
  },
  {
   "cell_type": "markdown",
   "id": "dd697e51",
   "metadata": {},
   "source": [
    "The sample space for four sibling children. Each row in the sample space contains 1 of 16 possible outcomes.\n",
    "Every outcome represents a unique combination of four children. The gender of each child is indicated by a\n",
    "letter: B for boy and G for girl. Outcomes with two boys are marked by an arrow. Calculate the probability\n",
    "of two boys."
   ]
  },
  {
   "cell_type": "code",
   "execution_count": 46,
   "id": "6ec7da57",
   "metadata": {},
   "outputs": [
    {
     "data": {
      "text/plain": [
       "0.375"
      ]
     },
     "execution_count": 46,
     "metadata": {},
     "output_type": "execute_result"
    }
   ],
   "source": [
    "def probabilty(no_of_boys,total_space):\n",
    "    return two_boys/total_space\n",
    "    \n",
    "    \n",
    "two_boys=6\n",
    "total_space=16\n",
    "\n",
    "probabilty(two_boys,total_space)"
   ]
  },
  {
   "cell_type": "markdown",
   "id": "108988af",
   "metadata": {},
   "source": [
    "A die is loaded in such a way that an even number is twice as likely to occur as an odd number. If E is the\n",
    "event that a number less than 4 occurs on a single toss of the die, find P (E)."
   ]
  },
  {
   "cell_type": "code",
   "execution_count": 47,
   "id": "ae461534",
   "metadata": {},
   "outputs": [
    {
     "name": "stdout",
     "output_type": "stream",
     "text": [
      "prob of event E 0.4444444444444444\n"
     ]
    }
   ],
   "source": [
    "prob_odd = 1 / 3\n",
    "prob_even = 2 / 3\n",
    "\n",
    "prob_odd_each = prob_odd / 3  \n",
    "prob_even_each = prob_even / 3 \n",
    "\n",
    "odd_less_than_4 = prob_odd_each * 2 \n",
    "even_less_than_4 = prob_even_each \n",
    "\n",
    "prob_E = odd_less_than_4 + even_less_than_4\n",
    "\n",
    "print(\"prob of event E\",prob_E)\n"
   ]
  },
  {
   "cell_type": "markdown",
   "id": "2ae57919",
   "metadata": {},
   "source": [
    "A bag contains 10 red marbles and 20 blue marbles. If you draw a marble at random, what is the probability\n",
    "that it is red given that it is blue? This is an example of conditional probability because we are given that the\n",
    "marble is blue, and we want to find the probability that it is red."
   ]
  },
  {
   "cell_type": "code",
   "execution_count": 48,
   "id": "2a4ee260",
   "metadata": {},
   "outputs": [
    {
     "name": "stdout",
     "output_type": "stream",
     "text": [
      "probability that it is red given that it is blue   0.0\n",
      "blue probability  0.6666666666666666\n",
      "red probability  0.3333333333333333\n"
     ]
    }
   ],
   "source": [
    "total_marbles=30\n",
    "red_marbles=10\n",
    "blue_marbles=20\n",
    "\n",
    "prob_red=red_marbles/total_marbles\n",
    "prob_blue=blue_marbles/total_marbles\n",
    "given=0\n",
    "\n",
    "#conditional formula P(R/B)=(P(B/R)*P(R)/P(B))\n",
    "prob=(given*prob_red)/prob_blue\n",
    "\n",
    "print(\"probability that it is red given that it is blue  \",prob)\n",
    "print(\"blue probability \",prob_blue)\n",
    "print(\"red probability \",prob_red)"
   ]
  },
  {
   "cell_type": "markdown",
   "id": "f10462fa",
   "metadata": {},
   "source": [
    "Using a Hidden Markov Model, diagnose whether a person is healthy or sick based on the observation of\n",
    "cough or no cough. The model has two possible states: healthy and sick, and two possible observations: cough\n",
    "and no cough."
   ]
  },
  {
   "cell_type": "code",
   "execution_count": 49,
   "id": "b0cd0ad8",
   "metadata": {},
   "outputs": [
    {
     "name": "stdout",
     "output_type": "stream",
     "text": [
      "number of hidden states  2\n",
      "number of observations  2\n"
     ]
    }
   ],
   "source": [
    "#code as per lab manual instructions, only probabilities were changed\n",
    "states = [\"healthy\", \"sick\"]\n",
    "n_states = len(states)\n",
    "print('number of hidden states ',n_states)\n",
    "observations = [\"cough\", \"no cough\"]\n",
    "n_observations = len(observations)\n",
    "print('number of observations ',n_observations)"
   ]
  },
  {
   "cell_type": "code",
   "execution_count": 50,
   "id": "d682acca",
   "metadata": {},
   "outputs": [
    {
     "name": "stdout",
     "output_type": "stream",
     "text": [
      "state probability:  [0.4 0.6]\n",
      "\n",
      "transition probability:\n",
      " [[0.3 0.7]\n",
      " [0.4 0.6]]\n",
      "\n",
      "emission probability:\n",
      " [[0.9 0.1]\n",
      " [0.2 0.8]]\n"
     ]
    }
   ],
   "source": [
    "state_probability = np.array([0.4, 0.6])\n",
    "print(\"state probability: \", state_probability)\n",
    "\n",
    "transition_probability = np.array([[0.3, 0.7], [0.4, 0.6]])\n",
    "print(\"\\ntransition probability:\\n\", transition_probability)\n",
    "\n",
    "emission_probability= np.array([[0.9, 0.1], [0.2, 0.8]])\n",
    "print(\"\\nemission probability:\\n\", emission_probability)"
   ]
  },
  {
   "cell_type": "code",
   "execution_count": 51,
   "id": "ba0c1fb0",
   "metadata": {},
   "outputs": [],
   "source": [
    "model = hmm.CategoricalHMM(n_components=n_states)\n",
    "model.startprob_ = state_probability\n",
    "model.transmat_ = transition_probability\n",
    "model.emissionprob_ = emission_probability"
   ]
  },
  {
   "cell_type": "code",
   "execution_count": 52,
   "id": "9f3b8473",
   "metadata": {},
   "outputs": [
    {
     "data": {
      "text/plain": [
       "array([[0],\n",
       "       [1],\n",
       "       [0],\n",
       "       [1],\n",
       "       [0],\n",
       "       [0]])"
      ]
     },
     "execution_count": 52,
     "metadata": {},
     "output_type": "execute_result"
    }
   ],
   "source": [
    "observations_sequence = np.array([0, 1, 0, 1, 0, 0]).reshape(-1, 1)\n",
    "observations_sequence"
   ]
  },
  {
   "cell_type": "code",
   "execution_count": 53,
   "id": "b3c7c190",
   "metadata": {},
   "outputs": [
    {
     "name": "stdout",
     "output_type": "stream",
     "text": [
      "most likely hidden states  [0 1 0 1 0 0]\n"
     ]
    }
   ],
   "source": [
    "hidden_states = model.predict(observations_sequence)\n",
    "print(\"most likely hidden states \", hidden_states)"
   ]
  },
  {
   "cell_type": "code",
   "execution_count": 54,
   "id": "71307571",
   "metadata": {},
   "outputs": [
    {
     "name": "stdout",
     "output_type": "stream",
     "text": [
      "log Probability : -5.533924053085589\n",
      "most likely hidden states: [0 1 0 1 0 0]\n"
     ]
    }
   ],
   "source": [
    "log_probability, hidden_states = model.decode(observations_sequence, lengths =\n",
    "len(observations_sequence), algorithm ='viterbi' )\n",
    "print('log Probability :',log_probability)\n",
    "print(\"most likely hidden states:\", hidden_states)"
   ]
  },
  {
   "cell_type": "code",
   "execution_count": 56,
   "id": "bf423978",
   "metadata": {},
   "outputs": [
    {
     "data": {
      "image/png": "[encoded data removed]",
      "text/plain": [
       "<Figure size 640x480 with 1 Axes>"
      ]
     },
     "metadata": {},
     "output_type": "display_data"
    }
   ],
   "source": [
    "# Plot the results\n",
    "sns.set_style(\"whitegrid\")\n",
    "plt.plot(hidden_states, '-o', label=\"Hidden State\")\n",
    "plt.xlabel('Time step')\n",
    "plt.ylabel('Most Likely Hidden State')\n",
    "plt.title(\"Healthy or Sick\")\n",
    "plt.legend()\n",
    "plt.show()"
   ]
  },
  {
   "cell_type": "markdown",
   "id": "7b385f66",
   "metadata": {},
   "source": [
    "A manufacturing firm employs three analytical plans for the design and development of a particular product.\n",
    "For cost reasons, all three are used at varying times. In fact, plans 1, 2, and 3 are used for 30%, 20%, and\n",
    "50% of the products, respectively. The defect rate is different for the three procedures as follows: P(D|P1)\n",
    "=0.01, P(D|P2) =0.03, P(D|P3) =0.02, where P (D|Pj) is the probability of a defective product, given plan j.\n",
    "If a random product was observed and found to be defective, which plan was most likely used and thus\n",
    "responsible?"
   ]
  },
  {
   "cell_type": "code",
   "execution_count": 58,
   "id": "8e2c9c3b",
   "metadata": {},
   "outputs": [
    {
     "name": "stdout",
     "output_type": "stream",
     "text": [
      "plan 3 was most likely used\n"
     ]
    }
   ],
   "source": [
    "#plan 1\n",
    "P_P1 = 0.30\n",
    "#plan 2\n",
    "P_P2 = 0.20\n",
    "#plan 3\n",
    "P_P3 = 0.50\n",
    "\n",
    "#defective product plan 1\n",
    "P_D_P1 = 0.01 \n",
    "#defective product plan 2\n",
    "P_D_P2 = 0.03 \n",
    "#defective product plan 3\n",
    "P_D_P3 = 0.02 \n",
    "\n",
    "#total probability of a defective product\n",
    "P_D = P_P1 * P_D_P1 + P_P2 * P_D_P2 + P_P3 * P_D_P3\n",
    "\n",
    "#probabilities of plans\n",
    "P_P1_D = (P_D_P1 * P_P1) / P_D\n",
    "P_P2_D = (P_D_P2 * P_P2) / P_D\n",
    "P_P3_D = (P_D_P3 * P_P3) / P_D\n",
    "\n",
    "if P_P1_D > P_P2_D and P_P1_D > P_P3_D:\n",
    "    print(\"plan 1 was most likely used\")\n",
    "elif P_P2_D > P_P1_D and P_P2_D > P_P3_D:\n",
    "    print(\"plan 2 was most likely used\")\n",
    "else:\n",
    "    print(\"plan 3 was most likely used\")\n"
   ]
  },
  {
   "cell_type": "code",
   "execution_count": null,
   "id": "df803c64",
   "metadata": {},
   "outputs": [],
   "source": []
  }
 ],
 "metadata": {
  "kernelspec": {
   "display_name": "Python 3 (ipykernel)",
   "language": "python",
   "name": "python3"
  },
  "language_info": {
   "codemirror_mode": {
    "name": "ipython",
    "version": 3
   },
   "file_extension": ".py",
   "mimetype": "text/x-python",
   "name": "python",
   "nbconvert_exporter": "python",
   "pygments_lexer": "ipython3",
   "version": "3.11.4"
  }
 },
 "nbformat": 4,
 "nbformat_minor": 5
}
