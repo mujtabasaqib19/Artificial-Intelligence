{
 "cells": [
  {
   "cell_type": "markdown",
   "id": "83a8f8da",
   "metadata": {},
   "source": [
    "# K22-4005 Mujtaba Saqib BAI-4A"
   ]
  },
  {
   "cell_type": "code",
   "execution_count": 4,
   "id": "587a48bd",
   "metadata": {},
   "outputs": [],
   "source": [
    "import pandas as pd\n",
    "import numpy as np\n",
    "from pgmpy.models import BayesianModel\n",
    "from pgmpy.factors.discrete import TabularCPD\n",
    "from pgmpy.inference import VariableElimination"
   ]
  },
  {
   "cell_type": "markdown",
   "id": "ed4f92c0",
   "metadata": {},
   "source": [
    "Task 1: Problem: Suppose you have a fair coin and an unfair coin. The probability of getting heads when flipping the\n",
    "fair coin is 0.5, while the probability of getting heads when flipping the unfair coin is 0.8. You randomly select one of\n",
    "the two coins and flip it. What is the probability that you selected the fair coin given that you got heads?"
   ]
  },
  {
   "cell_type": "code",
   "execution_count": 5,
   "id": "b36e0011",
   "metadata": {},
   "outputs": [
    {
     "name": "stdout",
     "output_type": "stream",
     "text": [
      "0.3846153846153846\n"
     ]
    }
   ],
   "source": [
    "def naive_bayes(coin_A_head,Head,coin_A):\n",
    "       return (coin_A_head*coin_A)/Head\n",
    "    \n",
    "\n",
    "total_coins=2\n",
    "coin_A=0.5\n",
    "coin_B=0.5\n",
    "coin_A_head=0.5\n",
    "coin_A_Tail=0.5\n",
    "coin_B_head=0.8\n",
    "coin_B_Tail=0.2\n",
    "\n",
    "Head=(coin_A_head*coin_A)+(coin_B_head*coin_B)\n",
    "print(naive_bayes(coin_A_head,Head,coin_A))"
   ]
  },
  {
   "cell_type": "code",
   "execution_count": 6,
   "id": "a8d27f8b",
   "metadata": {},
   "outputs": [
    {
     "name": "stderr",
     "output_type": "stream",
     "text": [
      "WARNING:pgmpy:BayesianModel has been renamed to BayesianNetwork. Please use BayesianNetwork class, BayesianModel will be removed in future.\n",
      "WARNING:pgmpy:BayesianModel has been renamed to BayesianNetwork. Please use BayesianNetwork class, BayesianModel will be removed in future.\n",
      "WARNING:pgmpy:BayesianModel has been renamed to BayesianNetwork. Please use BayesianNetwork class, BayesianModel will be removed in future.\n"
     ]
    },
    {
     "name": "stdout",
     "output_type": "stream",
     "text": [
      "+---------+-------------+\n",
      "| coin    |   phi(coin) |\n",
      "+=========+=============+\n",
      "| coin(A) |      0.3846 |\n",
      "+---------+-------------+\n",
      "| coin(B) |      0.6154 |\n",
      "+---------+-------------+\n"
     ]
    }
   ],
   "source": [
    "model = BayesianModel([('coin','result')])\n",
    "\n",
    "#defining the variables, 2 coins hence 2 variables and containing the their heads and tail probabilities and total coins\n",
    "# are 2 hence 0.5 for each coin. rest done as per lab manual.\n",
    "\n",
    "cpd1 = TabularCPD(variable='coin', variable_card=2, values=[[0.5], [0.5]],state_names={'coin': ['A', 'B']})\n",
    "\n",
    "#head probabilities coin A 0.5 and for tail 0.5, coin b head 0.8 and tail 0.2\n",
    "cpd2 = TabularCPD(variable='result', variable_card=2,values=[[0.5, 0.8], [0.5, 0.2]],evidence=['coin'], evidence_card=[2],\n",
    "                  state_names={'coin':['A','B'], 'result': ['heads','tails']})\n",
    "\n",
    "model.add_cpds(cpd1,cpd2)\n",
    "assert model.check_model()\n",
    "\n",
    "inference = VariableElimination(model)\n",
    "result = inference.query(variables=['coin'], evidence={'result': 'heads'})\n",
    "print(result)\n"
   ]
  },
  {
   "cell_type": "markdown",
   "id": "d7015d60",
   "metadata": {},
   "source": [
    "Task 2: Problem: Suppose you have a standard deck of playing cards with 52 cards. You draw one card at random.\n",
    "What is the probability that the card drawn is a heart?"
   ]
  },
  {
   "cell_type": "code",
   "execution_count": 7,
   "id": "af26f956",
   "metadata": {},
   "outputs": [
    {
     "name": "stdout",
     "output_type": "stream",
     "text": [
      "probability of heart  0.25\n"
     ]
    }
   ],
   "source": [
    "def hearts_probability(event_outcomes, total_cards):\n",
    "    prob = event_outcomes / total_cards\n",
    "    return prob\n",
    "\n",
    "#a deck has total 52 cards and total hearts are 13\n",
    "cards = 52 \n",
    "hearts = 13\n",
    "\n",
    "#function passed to calculate probability\n",
    "heart_probability = hearts_probability(hearts, cards)\n",
    "print(\"probability of heart \",str(heart_probability))"
   ]
  },
  {
   "cell_type": "code",
   "execution_count": 8,
   "id": "e3cbe62f",
   "metadata": {},
   "outputs": [
    {
     "name": "stdout",
     "output_type": "stream",
     "text": [
      "Requirement already satisfied: pomegranate in c:\\users\\mujta\\anaconda3\\lib\\site-packages (0.14.9)\n",
      "Requirement already satisfied: cython<3.0.0,>=0.22.1 in c:\\users\\mujta\\anaconda3\\lib\\site-packages (from pomegranate) (0.29.37)\n",
      "Requirement already satisfied: numpy>=1.20.0 in c:\\users\\mujta\\anaconda3\\lib\\site-packages (from pomegranate) (1.24.3)\n",
      "Requirement already satisfied: joblib>=0.9.0b4 in c:\\users\\mujta\\anaconda3\\lib\\site-packages (from pomegranate) (1.2.0)\n",
      "Requirement already satisfied: networkx>=2.4 in c:\\users\\mujta\\anaconda3\\lib\\site-packages (from pomegranate) (3.3)\n",
      "Requirement already satisfied: scipy>=0.17.0 in c:\\users\\mujta\\anaconda3\\lib\\site-packages (from pomegranate) (1.10.1)\n",
      "Requirement already satisfied: pyyaml in c:\\users\\mujta\\anaconda3\\lib\\site-packages (from pomegranate) (6.0)\n"
     ]
    }
   ],
   "source": [
    "!pip install pomegranate"
   ]
  },
  {
   "cell_type": "code",
   "execution_count": 9,
   "id": "45d28357",
   "metadata": {},
   "outputs": [
    {
     "name": "stdout",
     "output_type": "stream",
     "text": [
      "Requirement already satisfied: pgmpy in c:\\users\\mujta\\anaconda3\\lib\\site-packages (0.1.25)\n",
      "Requirement already satisfied: networkx in c:\\users\\mujta\\anaconda3\\lib\\site-packages (from pgmpy) (3.3)\n",
      "Requirement already satisfied: numpy in c:\\users\\mujta\\anaconda3\\lib\\site-packages (from pgmpy) (1.24.3)\n",
      "Requirement already satisfied: scipy in c:\\users\\mujta\\anaconda3\\lib\\site-packages (from pgmpy) (1.10.1)\n",
      "Requirement already satisfied: scikit-learn in c:\\users\\mujta\\anaconda3\\lib\\site-packages (from pgmpy) (1.3.0)\n",
      "Requirement already satisfied: pandas in c:\\users\\mujta\\anaconda3\\lib\\site-packages (from pgmpy) (1.5.3)\n",
      "Requirement already satisfied: pyparsing in c:\\users\\mujta\\anaconda3\\lib\\site-packages (from pgmpy) (3.0.9)\n",
      "Requirement already satisfied: torch in c:\\users\\mujta\\anaconda3\\lib\\site-packages (from pgmpy) (2.2.2)\n",
      "Requirement already satisfied: statsmodels in c:\\users\\mujta\\anaconda3\\lib\\site-packages (from pgmpy) (0.14.0)\n",
      "Requirement already satisfied: tqdm in c:\\users\\mujta\\anaconda3\\lib\\site-packages (from pgmpy) (4.65.0)\n",
      "Requirement already satisfied: joblib in c:\\users\\mujta\\anaconda3\\lib\\site-packages (from pgmpy) (1.2.0)\n",
      "Requirement already satisfied: opt-einsum in c:\\users\\mujta\\anaconda3\\lib\\site-packages (from pgmpy) (3.3.0)\n",
      "Requirement already satisfied: python-dateutil>=2.8.1 in c:\\users\\mujta\\anaconda3\\lib\\site-packages (from pandas->pgmpy) (2.8.2)\n",
      "Requirement already satisfied: pytz>=2020.1 in c:\\users\\mujta\\anaconda3\\lib\\site-packages (from pandas->pgmpy) (2022.7)\n",
      "Requirement already satisfied: threadpoolctl>=2.0.0 in c:\\users\\mujta\\anaconda3\\lib\\site-packages (from scikit-learn->pgmpy) (2.2.0)\n",
      "Requirement already satisfied: patsy>=0.5.2 in c:\\users\\mujta\\anaconda3\\lib\\site-packages (from statsmodels->pgmpy) (0.5.3)\n",
      "Requirement already satisfied: packaging>=21.3 in c:\\users\\mujta\\anaconda3\\lib\\site-packages (from statsmodels->pgmpy) (23.0)\n",
      "Requirement already satisfied: filelock in c:\\users\\mujta\\anaconda3\\lib\\site-packages (from torch->pgmpy) (3.9.0)\n",
      "Requirement already satisfied: typing-extensions>=4.8.0 in c:\\users\\mujta\\anaconda3\\lib\\site-packages (from torch->pgmpy) (4.11.0)\n",
      "Requirement already satisfied: sympy in c:\\users\\mujta\\anaconda3\\lib\\site-packages (from torch->pgmpy) (1.11.1)\n",
      "Requirement already satisfied: jinja2 in c:\\users\\mujta\\anaconda3\\lib\\site-packages (from torch->pgmpy) (3.1.2)\n",
      "Requirement already satisfied: fsspec in c:\\users\\mujta\\anaconda3\\lib\\site-packages (from torch->pgmpy) (2023.3.0)\n",
      "Requirement already satisfied: colorama in c:\\users\\mujta\\anaconda3\\lib\\site-packages (from tqdm->pgmpy) (0.4.6)\n",
      "Requirement already satisfied: six in c:\\users\\mujta\\anaconda3\\lib\\site-packages (from patsy>=0.5.2->statsmodels->pgmpy) (1.16.0)\n",
      "Requirement already satisfied: MarkupSafe>=2.0 in c:\\users\\mujta\\anaconda3\\lib\\site-packages (from jinja2->torch->pgmpy) (2.1.1)\n",
      "Requirement already satisfied: mpmath>=0.19 in c:\\users\\mujta\\anaconda3\\lib\\site-packages (from sympy->torch->pgmpy) (1.3.0)\n"
     ]
    }
   ],
   "source": [
    "!pip install pgmpy"
   ]
  },
  {
   "cell_type": "markdown",
   "id": "c74a2208",
   "metadata": {},
   "source": [
    "Task 3: Problem: Consider a scenario where a student's performance in an exam may depend on various factors such as attendance, study time, and previous exam scores. Design a Bayesian network to represent this scenario and calculate the probability of a student passing the exam given their attendance and study time."
   ]
  },
  {
   "cell_type": "code",
   "execution_count": 39,
   "id": "8bd70da7",
   "metadata": {},
   "outputs": [
    {
     "name": "stdout",
     "output_type": "stream",
     "text": [
      "1.0\n",
      "1.0\n"
     ]
    }
   ],
   "source": [
    "from pomegranate import *\n",
    "\n",
    "attendance = DiscreteDistribution({'good': 0.4, 'poor': 0.6})\n",
    "study_time = DiscreteDistribution({'high': 0.3, 'medium': 0.4, 'low': 0.3})\n",
    "previous_scores = DiscreteDistribution({'good': 0.3, 'Average': 0.4, 'poor': 0.3})\n",
    "\n",
    "exam_performance = ConditionalProbabilityTable(\n",
    "     [['good', 'high', 'good', 'pass', 0.35],\n",
    "     ['good', 'high', 'Average', 'pass', 0.55],\n",
    "     ['good', 'high', 'poor', 'pass', 0.25],\n",
    "     ['good', 'medium', 'good', 'pass', 0.35],\n",
    "     ['good', 'medium', 'Average', 'pass', 0.45],\n",
    "     ['good', 'medium', 'poor', 'pass', 0.95],\n",
    "     ['good', 'low', 'good', 'pass', 0.75],\n",
    "     ['good', 'low', 'Average', 'pass', 0.65],\n",
    "     ['good', 'low', 'poor', 'pass', 0.55],\n",
    "     ['poor', 'high', 'good', 'pass', 0.85],\n",
    "     ['poor', 'high', 'Average', 'pass', 0.75],\n",
    "     ['poor', 'high', 'poor', 'pass', 0.65],\n",
    "     ['poor', 'medium', 'good', 'pass', 0.75],\n",
    "     ['poor', 'medium', 'Average', 'pass', 0.65],\n",
    "     ['poor', 'medium', 'poor', 'pass', 0.55],\n",
    "     ['poor', 'low', 'good', 'pass', 0.65],\n",
    "     ['poor', 'low', 'Average', 'pass', 0.55],\n",
    "     ['poor', 'low', 'poor', 'pass', 0.45]],\n",
    "    [attendance, study_time, previous_scores])\n",
    "\n",
    "s1 = State(attendance, name=\"attendance\")\n",
    "s2 = State(study_time, name=\"study time\")\n",
    "s3 = State(previous_scores, name=\"previous scores\")\n",
    "s4 = State(exam_performance, name=\"exam performance\")\n",
    "\n",
    "network = BayesianNetwork(\"student performance\")\n",
    "network.add_states(s1, s2, s3, s4)\n",
    "network.add_edge(s1, s4)\n",
    "network.add_edge(s2, s4)\n",
    "network.add_edge(s3, s4)\n",
    "network.bake()\n",
    "\n",
    "beliefs = network.predict_proba({'attendance':'good','study time':'high'})\n",
    "#passing with good attendance and high study time\n",
    "print(beliefs[3].parameters[0]['pass'])\n",
    "\n",
    "beliefs_poor_attendance_high_study = network.predict_proba({'attendance':'poor','study time':'high'})\n",
    "#passing with poor attendance and high study time\n",
    "print(beliefs_poor_attendance_high_study[3].parameters[0]['pass'])\n"
   ]
  },
  {
   "cell_type": "markdown",
   "id": "de3fcfee",
   "metadata": {},
   "source": [
    "Task 4: Problem: Suppose you have two fair six-sided dice. You roll both dice simultaneously. What is the probability\n",
    "that the sum of the numbers rolled is 7?"
   ]
  },
  {
   "cell_type": "code",
   "execution_count": null,
   "id": "f99dbae1",
   "metadata": {},
   "outputs": [],
   "source": [
    "def probability(total_outcome,sum_of_7):\n",
    "    prob=sum_of_7/total_outcome\n",
    "    return prob\n",
    "\n",
    "#2 dices hence 6 possibility each so 6*6=36\n",
    "total_outcome=36\n",
    "\n",
    "#(1,6),(6,1),(2,5),(5,2),(3,4),(4,3)\n",
    "sum_of_7=6\n",
    "\n",
    "print(round(probability(total_outcome,sum_of_7),3))"
   ]
  },
  {
   "cell_type": "markdown",
   "id": "0934d493",
   "metadata": {},
   "source": [
    "Suppose we want to model a student's performance in a class based on two factors: the amount of time they spend\n",
    "studying and whether or not they have access to tutoring.\n",
    "Bayesian Network Design:\n",
    "We can design a Bayesian network with two nodes:\n",
    "● StudyTime: representing the amount of time spent studying (low, medium, high).\n",
    "● Tutoring: representing whether the student has access to tutoring (yes, no).\n",
    "● Performance: representing the student's performance (poor, average, good).\n",
    "Dependencies:\n",
    "● StudyTime and Tutoring both influence Performance.\n",
    "● There is no direct dependency between StudyTime and Tutoring.\n",
    "Conditional Probability Distributions (CPDs):\n",
    "● CPD for Performance given StudyTime and Tutoring.\n",
    "Questions/Tasks:\n",
    "1. What is the probability that a student's performance is 'poor' given that they spend a 'medium' amount of time\n",
    "studying and have access to tutoring?\n",
    "2. Given that a student's performance is 'good', what is the probability that they spend a 'high' amount of time\n",
    "studying and have access to tutoring?\n",
    "3. If a student's performance is 'average', what is the probability distribution of their study time and tutoring?\n",
    "Use the Bayesian network model along with inference techniques to answer these questions."
   ]
  },
  {
   "cell_type": "code",
   "execution_count": 17,
   "id": "ed8b867b",
   "metadata": {},
   "outputs": [
    {
     "name": "stderr",
     "output_type": "stream",
     "text": [
      "WARNING:pgmpy:BayesianModel has been renamed to BayesianNetwork. Please use BayesianNetwork class, BayesianModel will be removed in future.\n",
      "WARNING:pgmpy:BayesianModel has been renamed to BayesianNetwork. Please use BayesianNetwork class, BayesianModel will be removed in future.\n",
      "WARNING:pgmpy:BayesianModel has been renamed to BayesianNetwork. Please use BayesianNetwork class, BayesianModel will be removed in future.\n",
      "WARNING:pgmpy:BayesianModel has been renamed to BayesianNetwork. Please use BayesianNetwork class, BayesianModel will be removed in future.\n",
      "WARNING:pgmpy:BayesianModel has been renamed to BayesianNetwork. Please use BayesianNetwork class, BayesianModel will be removed in future.\n",
      "WARNING:pgmpy:BayesianModel has been renamed to BayesianNetwork. Please use BayesianNetwork class, BayesianModel will be removed in future.\n",
      "WARNING:pgmpy:BayesianModel has been renamed to BayesianNetwork. Please use BayesianNetwork class, BayesianModel will be removed in future.\n"
     ]
    },
    {
     "name": "stdout",
     "output_type": "stream",
     "text": [
      "0.1\n",
      "[0.01959646 0.01306431]\n",
      "[0.17857143 0.14285714]\n",
      "[0.23809524 0.29761905]\n"
     ]
    }
   ],
   "source": [
    "from pgmpy.models import BayesianModel\n",
    "from pgmpy.factors.discrete import TabularCPD\n",
    "from pgmpy.inference import VariableElimination\n",
    "\n",
    "\n",
    "#as study time and tutoring both influence performance\n",
    "model = BayesianModel([\n",
    "    ('studytime', 'performance'),\n",
    "    ('tutoring', 'performance')\n",
    "])\n",
    "\n",
    "#studytime, low medium high\n",
    "cpd1= TabularCPD(variable='studytime', variable_card=3,\n",
    "                            values=[[0.3], [0.5], [0.2]],\n",
    "                            state_names={'studytime': ['low', 'medium', 'high']})\n",
    "#tutoring, yes or no\n",
    "cpd2 = TabularCPD(variable='tutoring', variable_card=2,\n",
    "                          values=[[0.5], [0.5]],\n",
    "                          state_names={'tutoring': ['yes', 'no']})\n",
    "#performance, poor average or good\n",
    "cpd3 = TabularCPD(variable='performance', variable_card=3,\n",
    "                             values=[[0.2, 0.3, 0.1, 0.2, 0.05, 0.1],\n",
    "                                     [0.5, 0.4, 0.4, 0.5, 0.2, 0.4], \n",
    "                                     [0.3, 0.3, 0.5, 0.3, 0.75, 0.5]],\n",
    "                             evidence=['studytime', 'tutoring'],\n",
    "                             evidence_card=[3, 2],\n",
    "                             state_names={'performance': ['poor', 'average', 'good'],\n",
    "                                          'studytime': ['low', 'medium', 'high'],\n",
    "                                          'tutoring': ['yes', 'no']})\n",
    "\n",
    "model.add_cpds(cpd1,cpd2,cpd3)\n",
    "\n",
    "assert model.check_model()\n",
    "inference = VariableElimination(model)\n",
    "\n",
    "#this is for poor performance with medium study time and tutoring\n",
    "result_q1 = inference.query(variables=['performance'], evidence={'studytime': 'medium', 'tutoring': 'yes'})\n",
    "print(result_q1.values[0])\n",
    "\n",
    "#this for high study time and tutoring and good performance\n",
    "result_q2 = inference.query(variables=['studytime', 'tutoring'], evidence={'performance': 'good'})\n",
    "high_study = result_q2.values[2] * result_q2.values[result_q2.state_names['tutoring'].index('yes')]\n",
    "print(high_study)\n",
    "\n",
    "result_q3 = inference.query(variables=['studytime', 'tutoring'], evidence={'performance': 'average'})\n",
    "study_time = result_q3.values\n",
    "\n",
    "#this for average performnace studytime\n",
    "print(study_time[0]) \n",
    "#this for average performnace tutoring\n",
    "print(study_time[1]) "
   ]
  },
  {
   "cell_type": "code",
   "execution_count": null,
   "id": "cc70fa0b",
   "metadata": {},
   "outputs": [],
   "source": []
  }
 ],
 "metadata": {
  "kernelspec": {
   "display_name": "Python 3 (ipykernel)",
   "language": "python",
   "name": "python3"
  },
  "language_info": {
   "codemirror_mode": {
    "name": "ipython",
    "version": 3
   },
   "file_extension": ".py",
   "mimetype": "text/x-python",
   "name": "python",
   "nbconvert_exporter": "python",
   "pygments_lexer": "ipython3",
   "version": "3.11.4"
  }
 },
 "nbformat": 4,
 "nbformat_minor": 5
}
